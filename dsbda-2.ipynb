{
 "cells": [
  {
   "cell_type": "code",
   "execution_count": 24,
   "id": "1b135eb5",
   "metadata": {},
   "outputs": [],
   "source": [
    "import pandas as pd\n",
    "import numpy as np\n",
    "import seaborn as sns\n",
    "import matplotlib.pyplot as plt"
   ]
  },
  {
   "cell_type": "code",
   "execution_count": 25,
   "id": "bce0f02b",
   "metadata": {},
   "outputs": [],
   "source": [
    "df =pd.read_csv('SIT_Student_Information.csv')"
   ]
  },
  {
   "cell_type": "code",
   "execution_count": 26,
   "id": "7f8e9e3a",
   "metadata": {},
   "outputs": [],
   "source": [
    "sorted_df = df.sort_values(by='Age')"
   ]
  },
  {
   "cell_type": "code",
   "execution_count": 27,
   "id": "42cb8fd3",
   "metadata": {},
   "outputs": [
    {
     "name": "stdout",
     "output_type": "stream",
     "text": [
      "                           Name   Age  Gender         Year       Taluka\n",
      "84       Saurabh Santosh Kanade    18    Male   First Year       Parner\n",
      "83    Mayuresh Bapurao Babhale     18    Male   First Year      Basmath\n",
      "70                 Sahil Zaware    18    Male   First Year       Parner\n",
      "71        Gauri Vishal Gaikwad     18  Female   First Year        Maval\n",
      "75    Rohit Bahirnath Belhekar     18    Male   First Year      Newasa \n",
      "..                          ...   ...     ...          ...          ...\n",
      "39         Sagar Gangaram Pawar    24    Male   Third Year       Haveli\n",
      "45  Jagdish Tulshiram Kamlekar     24    Male   Third Year  Naigaon(kh)\n",
      "28       Sakshi Gurunath Nagane  2000  Female  Fourth Year       Haveli\n",
      "30        Tejas santosh parkhe   2002    Male   Third Year       Karjat\n",
      "16          Aditya Ananta Kadu   2002    Male   Third Year       Maval \n",
      "\n",
      "[87 rows x 5 columns]\n"
     ]
    }
   ],
   "source": [
    "print(sorted_df)"
   ]
  },
  {
   "cell_type": "code",
   "execution_count": 28,
   "id": "f5d487fe",
   "metadata": {},
   "outputs": [],
   "source": [
    "sorted_df = df.sort_values(by='Taluka')"
   ]
  },
  {
   "cell_type": "code",
   "execution_count": 29,
   "id": "5cefa1d1",
   "metadata": {},
   "outputs": [
    {
     "name": "stdout",
     "output_type": "stream",
     "text": [
      "                          Name  Age  Gender         Year     Taluka\n",
      "35                  **********   23    Male  Second Year     ******\n",
      "7               Malay Divekar    20    Male   Third Year          -\n",
      "12    Tambade Shubham Shivaji    21    Male   Third Year  AMBEGAON \n",
      "67            Himanshu Agrawal   20    Male   Third Year      Akola\n",
      "27              Sahil karnekar   21    Male   Third Year     Alibag\n",
      "..                         ...  ...     ...          ...        ...\n",
      "14                 Aryan kalea   20    Male   Third Year       Vapi\n",
      "19  Prajakta Padmakar Bhosale    22  Female  Fourth Year        Wai\n",
      "1       Ritesh Ramesh Gaikwad    21    Male   Third Year      Walwa\n",
      "79                Vedanti Raut   19  Female   First Year     Warora\n",
      "63         SUYOG SURESH AHIRE    20    Male   Third Year      Washi\n",
      "\n",
      "[87 rows x 5 columns]\n"
     ]
    }
   ],
   "source": [
    "print(sorted_df)"
   ]
  },
  {
   "cell_type": "code",
   "execution_count": 30,
   "id": "91ee5cbf",
   "metadata": {},
   "outputs": [],
   "source": [
    "transposed_df = df.T"
   ]
  },
  {
   "cell_type": "code",
   "execution_count": 31,
   "id": "2bc7aa89",
   "metadata": {},
   "outputs": [
    {
     "name": "stdout",
     "output_type": "stream",
     "text": [
      "                             0                       1   \\\n",
      "Name    Ravindra Ajinath Sanap   Ritesh Ramesh Gaikwad    \n",
      "Age                          22                      21   \n",
      "Gender                     Male                    Male   \n",
      "Year                 Third Year              Third Year   \n",
      "Taluka                    Ashti                   Walwa   \n",
      "\n",
      "                             2               3                        4   \\\n",
      "Name    Sakshi Ankush Bhalerao   Khushi Pathak   Aryan Rajendra Shingan    \n",
      "Age                          20              20                       21   \n",
      "Gender                   Female          Female                     Male   \n",
      "Year                 Third Year      Third Year               Third Year   \n",
      "Taluka                   Maval         Vadodara                    Karad   \n",
      "\n",
      "                          5                             6               7   \\\n",
      "Name    Ajay Krishna Jagdale  Niyati Pandharinath Wadekar   Malay Divekar    \n",
      "Age                       20                            20              20   \n",
      "Gender                  Male                        Female            Male   \n",
      "Year              Third Year                    Third Year      Third Year   \n",
      "Taluka                Haveli                        Maval                -   \n",
      "\n",
      "                         8                       9   ...              77  \\\n",
      "Name    Arti Kalyan Bankar   Shruti Santosh Jagtap   ...  Rutik Bhosale    \n",
      "Age                      20                      21  ...              20   \n",
      "Gender               Female                  Female  ...            Male   \n",
      "Year             Third Year              Third Year  ...      Third Year   \n",
      "Taluka             Jamkhed                 Paithan   ...      Sangamner    \n",
      "\n",
      "                             78            79            80  \\\n",
      "Name    Pranjal Jalindar Hinge   Vedanti Raut  Vivek sanap    \n",
      "Age                          18            19            18   \n",
      "Gender                   Female        Female          Male   \n",
      "Year                 First Year    First Year    First Year   \n",
      "Taluka                Ambegoan         Warora         Ashti   \n",
      "\n",
      "                          81                    82                         83  \\\n",
      "Name    Pathan fatin mustafa  Sakshee Sanjay Haral  Mayuresh Bapurao Babhale    \n",
      "Age                       18                    20                         18   \n",
      "Gender                  Male                Female                       Male   \n",
      "Year              First Year            Third Year                 First Year   \n",
      "Taluka                  Loha            Shrigonda                     Basmath   \n",
      "\n",
      "                            84                  85                      86  \n",
      "Name    Saurabh Santosh Kanade  Kalyani Ganesh Sul  Aniket Suhas Rupanawar  \n",
      "Age                         18                  19                      19  \n",
      "Gender                    Male              Female                    Male  \n",
      "Year                First Year          First Year              First Year  \n",
      "Taluka                  Parner             Indapur                 Indapur  \n",
      "\n",
      "[5 rows x 87 columns]\n"
     ]
    }
   ],
   "source": [
    "print(transposed_df)"
   ]
  },
  {
   "cell_type": "code",
   "execution_count": 32,
   "id": "d97e8cc0",
   "metadata": {},
   "outputs": [],
   "source": [
    "df_shape = df.shape"
   ]
  },
  {
   "cell_type": "code",
   "execution_count": 35,
   "id": "87f95bf7",
   "metadata": {},
   "outputs": [],
   "source": [
    "reshaped_df = df.Age"
   ]
  },
  {
   "cell_type": "code",
   "execution_count": 37,
   "id": "ed555d45",
   "metadata": {},
   "outputs": [
    {
     "name": "stdout",
     "output_type": "stream",
     "text": [
      "(87, 5)\n"
     ]
    }
   ],
   "source": [
    "print(df_shape)\n"
   ]
  },
  {
   "cell_type": "code",
   "execution_count": 38,
   "id": "c4647f22",
   "metadata": {},
   "outputs": [
    {
     "name": "stdout",
     "output_type": "stream",
     "text": [
      "0     22\n",
      "1     21\n",
      "2     20\n",
      "3     20\n",
      "4     21\n",
      "      ..\n",
      "82    20\n",
      "83    18\n",
      "84    18\n",
      "85    19\n",
      "86    19\n",
      "Name: Age, Length: 87, dtype: int64\n"
     ]
    }
   ],
   "source": [
    "\n",
    "print(reshaped_df)"
   ]
  },
  {
   "cell_type": "code",
   "execution_count": null,
   "id": "74f7c933",
   "metadata": {},
   "outputs": [],
   "source": []
  }
 ],
 "metadata": {
  "kernelspec": {
   "display_name": "Python 3 (ipykernel)",
   "language": "python",
   "name": "python3"
  },
  "language_info": {
   "codemirror_mode": {
    "name": "ipython",
    "version": 3
   },
   "file_extension": ".py",
   "mimetype": "text/x-python",
   "name": "python",
   "nbconvert_exporter": "python",
   "pygments_lexer": "ipython3",
   "version": "3.9.12"
  }
 },
 "nbformat": 4,
 "nbformat_minor": 5
}
