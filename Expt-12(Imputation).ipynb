{
 "cells": [
  {
   "cell_type": "code",
   "execution_count": null,
   "id": "fa46557e",
   "metadata": {},
   "outputs": [],
   "source": [
    "import pandas as pd\n",
    "import numpy as np\n",
    "#importing the dataset\n",
    "df = pd.read_csv(\"records.csv\")\n",
    "df.head()\n",
    "print(df)\n",
    "\n",
    "#1. Filling the Missing Values – Imputation\n",
    "updated_df = df\n",
    "updated_df['Salary']=updated_df['Salary'].fillna(updated_df['Salary'].mean())\n",
    "print(updated_df)\n",
    "\n",
    "#2. Imputation with an additional column\n",
    "updated_df = df\n",
    "updated_df['Salaryismissing'] = updated_df['Salary'].isnull()\n",
    "print(updated_df)\n",
    "\n",
    "#3. Filling with a Regression Model\n",
    "testdf = df[df['Salary'].isnull()==True]\n",
    "traindf = df[df['Salary'].isnull()==False]\n",
    "traindf.drop(\"Salary\",axis=1,inplace=True)\n",
    "testdf.drop(\"Salary\",axis=1,inplace=True)\n",
    "print(traindf)\n"
   ]
  },
  {
   "cell_type": "code",
   "execution_count": 21,
   "id": "02f18c61",
   "metadata": {},
   "outputs": [
    {
     "name": "stdout",
     "output_type": "stream",
     "text": [
      "   ID    Name    Role  Salary\n",
      "0   1  Pankaj  Editor   10000\n",
      "1   2    Lisa  Editor    8000\n",
      "2   3   David  Author    6000\n",
      "3   4     Ram  Author    4000\n",
      "4   5  Anupam  Author    5000\n",
      "   ID    Name    Role  Salary\n",
      "0   1  Pankaj  Editor   10000\n",
      "1   2    Lisa  Editor    8000\n",
      "2   3   David  Author    6000\n",
      "3   4     Ram  Author    4000\n",
      "4   5  Anupam  Author    5000\n"
     ]
    }
   ],
   "source": [
    "import pandas as pd\n",
    "import numpy as np\n",
    "#importing the dataset\n",
    "df = pd.read_csv(\"records.csv\")\n",
    "df.head()\n",
    "print(df)\n",
    "\n",
    "#1. Filling the Missing Values – Imputation\n",
    "updated_df = df\n",
    "updated_df['Salary']=updated_df['Salary'].fillna(updated_df['Salary'].mean())\n",
    "print(updated_df)"
   ]
  },
  {
   "cell_type": "code",
   "execution_count": 22,
   "id": "555399b8",
   "metadata": {},
   "outputs": [
    {
     "name": "stdout",
     "output_type": "stream",
     "text": [
      "   ID    Name    Role  Salary  Salaryismissing\n",
      "0   1  Pankaj  Editor   10000            False\n",
      "1   2    Lisa  Editor    8000            False\n",
      "2   3   David  Author    6000            False\n",
      "3   4     Ram  Author    4000            False\n",
      "4   5  Anupam  Author    5000            False\n"
     ]
    }
   ],
   "source": [
    "\n",
    "#2. Imputation with an additional column\n",
    "updated_df = df\n",
    "updated_df['Salaryismissing'] = updated_df['Salary'].isnull()\n",
    "print(updated_df)"
   ]
  },
  {
   "cell_type": "code",
   "execution_count": 23,
   "id": "f5dbd4f3",
   "metadata": {},
   "outputs": [
    {
     "name": "stdout",
     "output_type": "stream",
     "text": [
      "   ID    Name    Role  Salaryismissing\n",
      "0   1  Pankaj  Editor            False\n",
      "1   2    Lisa  Editor            False\n",
      "2   3   David  Author            False\n",
      "3   4     Ram  Author            False\n",
      "4   5  Anupam  Author            False\n"
     ]
    },
    {
     "name": "stderr",
     "output_type": "stream",
     "text": [
      "C:\\Users\\rohit\\AppData\\Local\\Temp\\ipykernel_10864\\320580915.py:5: SettingWithCopyWarning: \n",
      "A value is trying to be set on a copy of a slice from a DataFrame\n",
      "\n",
      "See the caveats in the documentation: https://pandas.pydata.org/pandas-docs/stable/user_guide/indexing.html#returning-a-view-versus-a-copy\n",
      "  testdf.drop(\"Salary\",axis=1,inplace=True)\n"
     ]
    }
   ],
   "source": [
    "#3. Filling with a Regression Model\n",
    "testdf = df[df['Salary'].isnull()==True]\n",
    "traindf = df[df['Salary'].isnull()==False]\n",
    "traindf.drop(\"Salary\",axis=1,inplace=True)\n",
    "testdf.drop(\"Salary\",axis=1,inplace=True)\n",
    "print(traindf)"
   ]
  },
  {
   "cell_type": "code",
   "execution_count": null,
   "id": "f1fefa8e",
   "metadata": {},
   "outputs": [],
   "source": []
  }
 ],
 "metadata": {
  "kernelspec": {
   "display_name": "Python 3 (ipykernel)",
   "language": "python",
   "name": "python3"
  },
  "language_info": {
   "codemirror_mode": {
    "name": "ipython",
    "version": 3
   },
   "file_extension": ".py",
   "mimetype": "text/x-python",
   "name": "python",
   "nbconvert_exporter": "python",
   "pygments_lexer": "ipython3",
   "version": "3.9.12"
  }
 },
 "nbformat": 4,
 "nbformat_minor": 5
}
