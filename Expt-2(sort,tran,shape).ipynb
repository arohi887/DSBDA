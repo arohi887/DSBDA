{
 "cells": [
  {
   "cell_type": "code",
   "execution_count": null,
   "id": "4e6dbef9",
   "metadata": {},
   "outputs": [],
   "source": [
    "#sort data\n",
    "\n",
    "import pandas as pd\n",
    "# assign dataset\n",
    "csvData = pd.read_csv(\"records.csv\")\n",
    "# displaying unsorted data frame\n",
    "print(\"\\nBefore sorting:\")\n",
    "print(csvData)\n",
    "# sort data frame\n",
    "#csvData.sort_values([\"Salary\"], axis=0, ascending=[False], inplace=True)\n",
    "csvData.sort_values([\"Salary\"],axis=0, ascending=[True], inplace=True)\n",
    "# displaying sorted data frame\n",
    "print(\"\\nAfter sorting:\")\n",
    "print(csvData)\n",
    "\n",
    "#Transpose\n",
    "import pandas as pd\n",
    "df = pd.read_csv('records.csv')\n",
    "print(df)\n",
    "print(df.T)\n",
    "print(df.shape)\n",
    "print(df.size)\n",
    "\n",
    "\n",
    "#Shape\n",
    "import pandas as pd\n",
    "df = pd.read_csv('records.csv')\n",
    "print(df)\n",
    "print(df.shape)\n",
    "print(df.size)\n"
   ]
  },
  {
   "cell_type": "code",
   "execution_count": 5,
   "id": "76a050ed",
   "metadata": {},
   "outputs": [
    {
     "name": "stdout",
     "output_type": "stream",
     "text": [
      "\n",
      "Before sorting:\n",
      "   ID    Name    Role  Salary\n",
      "0   1  Pankaj  Editor   10000\n",
      "1   2    Lisa  Editor    8000\n",
      "2   3   David  Author    6000\n",
      "3   4     Ram  Author    4000\n",
      "4   5  Anupam  Author    5000\n",
      "\n",
      "After sorting:\n",
      "   ID    Name    Role  Salary\n",
      "3   4     Ram  Author    4000\n",
      "4   5  Anupam  Author    5000\n",
      "2   3   David  Author    6000\n",
      "1   2    Lisa  Editor    8000\n",
      "0   1  Pankaj  Editor   10000\n"
     ]
    }
   ],
   "source": [
    "#sort data\n",
    "\n",
    "import pandas as pd\n",
    "# assign dataset\n",
    "csvData = pd.read_csv(\"records.csv\")\n",
    "# displaying unsorted data frame\n",
    "print(\"\\nBefore sorting:\")\n",
    "print(csvData)\n",
    "# sort data frame\n",
    "#csvData.sort_values([\"Salary\"], axis=0, ascending=[False], inplace=True)\n",
    "csvData.sort_values([\"Salary\"],axis=0, ascending=[True], inplace=True)\n",
    "# displaying sorted data frame\n",
    "print(\"\\nAfter sorting:\")\n",
    "print(csvData)\n"
   ]
  },
  {
   "cell_type": "code",
   "execution_count": 6,
   "id": "a66766d9",
   "metadata": {},
   "outputs": [
    {
     "name": "stdout",
     "output_type": "stream",
     "text": [
      "   ID    Name    Role  Salary\n",
      "0   1  Pankaj  Editor   10000\n",
      "1   2    Lisa  Editor    8000\n",
      "2   3   David  Author    6000\n",
      "3   4     Ram  Author    4000\n",
      "4   5  Anupam  Author    5000\n",
      "             0       1       2       3       4\n",
      "ID           1       2       3       4       5\n",
      "Name    Pankaj    Lisa   David     Ram  Anupam\n",
      "Role    Editor  Editor  Author  Author  Author\n",
      "Salary   10000    8000    6000    4000    5000\n",
      "(5, 4)\n",
      "20\n"
     ]
    }
   ],
   "source": [
    "#Transpose\n",
    "import pandas as pd\n",
    "df = pd.read_csv('records.csv')\n",
    "print(df)\n",
    "print(df.T)\n",
    "print(df.shape)\n",
    "print(df.size)\n"
   ]
  },
  {
   "cell_type": "code",
   "execution_count": 7,
   "id": "6fd2abc7",
   "metadata": {},
   "outputs": [
    {
     "name": "stdout",
     "output_type": "stream",
     "text": [
      "   ID    Name    Role  Salary\n",
      "0   1  Pankaj  Editor   10000\n",
      "1   2    Lisa  Editor    8000\n",
      "2   3   David  Author    6000\n",
      "3   4     Ram  Author    4000\n",
      "4   5  Anupam  Author    5000\n",
      "(5, 4)\n",
      "20\n"
     ]
    }
   ],
   "source": [
    "#Shape\n",
    "import pandas as pd\n",
    "df = pd.read_csv('records.csv')\n",
    "print(df)\n",
    "print(df.shape)\n",
    "print(df.size)"
   ]
  },
  {
   "cell_type": "code",
   "execution_count": null,
   "id": "bc867d04",
   "metadata": {},
   "outputs": [],
   "source": []
  }
 ],
 "metadata": {
  "kernelspec": {
   "display_name": "Python 3 (ipykernel)",
   "language": "python",
   "name": "python3"
  },
  "language_info": {
   "codemirror_mode": {
    "name": "ipython",
    "version": 3
   },
   "file_extension": ".py",
   "mimetype": "text/x-python",
   "name": "python",
   "nbconvert_exporter": "python",
   "pygments_lexer": "ipython3",
   "version": "3.9.12"
  }
 },
 "nbformat": 4,
 "nbformat_minor": 5
}
